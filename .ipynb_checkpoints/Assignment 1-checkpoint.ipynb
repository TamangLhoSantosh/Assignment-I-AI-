{
 "cells": [
  {
   "cell_type": "markdown",
   "id": "58ebf090",
   "metadata": {},
   "source": [
    "# Imports"
   ]
  },
  {
   "cell_type": "code",
   "execution_count": 26,
   "id": "4435fb55",
   "metadata": {},
   "outputs": [],
   "source": [
    "from numpy import load # load the 2 npy files created by the process_yale_images.ipynb \n",
    "import numpy as np # to do mathematical calculation\n",
    "from sklearn.model_selection import train_test_split # to split the data for training and testing\n",
    "from sklearn.metrics import classification_report # to print the report of the classifier\n",
    "from sklearn import metrics # to show the accuracy of the \n",
    "from sklearn.decomposition import PCA # to decrease dimension\n",
    "from sklearn.model_selection import cross_val_score # K-Fold for any classifier\n",
    "# MPL Classifier\n",
    "from sklearn.neural_network import MLPClassifier \n",
    "# AdaBoosting Classifier\n",
    "from sklearn.ensemble import AdaBoostClassifier\n",
    "from sklearn.tree import DecisionTreeClassifier\n",
    "# Pairwise Cslassifier (one vs one classifier)\n",
    "from sklearn.multiclass import OneVsOneClassifier\n",
    "from sklearn.svm import LinearSVC"
   ]
  },
  {
   "cell_type": "code",
   "execution_count": 4,
   "id": "e95e237e",
   "metadata": {},
   "outputs": [],
   "source": [
    "# load array\n",
    "X = load('./yaleExtB_data.npy')\n",
    "y = load('./yaleExtB_target.npy')\n",
    "\n",
    "# split into a training and testing set\n",
    "X_train, X_test, y_train, y_test = train_test_split(X, y, test_size=0.33, random_state=26)"
   ]
  },
  {
   "cell_type": "code",
   "execution_count": 67,
   "id": "71443f97",
   "metadata": {},
   "outputs": [
    {
     "name": "stdout",
     "output_type": "stream",
     "text": [
      "Cumulative explained variance ratio: \n",
      " [0.42263757 0.6908463  0.74842821 0.77606396 0.7961512  0.81027633\n",
      " 0.82175258 0.83275315 0.84142197 0.84949429 0.85696201 0.86350804\n",
      " 0.86965416 0.87521208 0.88023385 0.88507667 0.88929267 0.89303765\n",
      " 0.89666277 0.90003517 0.90312488 0.90613052 0.90897432 0.91164867\n",
      " 0.91424998 0.91672552 0.91904648 0.92132245 0.92333016 0.92523309\n",
      " 0.92701386 0.92873001 0.93041518 0.93200428 0.93358168 0.93505747\n",
      " 0.9365005  0.93792351 0.93929029 0.94059892 0.94184685 0.94308579\n",
      " 0.94421483 0.9453372  0.9464401  0.94749856 0.94852683 0.94952641\n",
      " 0.95049678 0.9514526  0.95238115 0.95326696 0.95414725 0.95495361\n",
      " 0.95575343 0.95654059 0.95730071 0.95805505 0.95879086 0.95950183\n",
      " 0.96018426 0.96085397 0.96150569 0.96212383 0.96273363 0.96333632\n",
      " 0.96391533 0.96448157 0.96503822 0.96558901 0.96611309 0.96662099\n",
      " 0.96711656 0.96760135 0.96807304 0.96853443 0.9689925  0.96942522\n",
      " 0.96985714 0.97028754 0.97070615 0.97111683 0.97151763 0.97191234\n",
      " 0.97229845 0.97267641 0.97304885 0.97341519 0.97376749 0.97411552\n",
      " 0.974459   0.97480141 0.97512872 0.9754529  0.97576979 0.97607402\n",
      " 0.97637567 0.97667343 0.97696185 0.97724534 0.97752733 0.97780778\n",
      " 0.97808201 0.97835221 0.97861407 0.97887078 0.97912373 0.97937\n",
      " 0.97960709 0.97984306 0.98007328 0.98030024 0.98052659 0.98074608\n",
      " 0.98096295 0.98117851 0.98138971 0.98159513 0.98179871 0.98199862\n",
      " 0.98219468 0.98238899 0.98258102 0.98276917 0.98295444 0.98313628\n",
      " 0.98331496 0.98349285 0.98366587 0.98383715 0.98400365 0.98416839\n",
      " 0.98433118 0.98449028 0.9846475  0.98480222 0.98495474 0.98510593\n",
      " 0.98525546 0.98540381 0.98554866 0.98569177 0.98583345 0.98597459\n",
      " 0.98611276 0.98624851 0.98638294 0.98651424 0.98664437 0.98677221\n",
      " 0.9868992  0.98702404 0.98714726 0.98726991 0.98739186 0.98750981\n",
      " 0.98762597 0.98774174 0.98785445 0.98796623 0.98807672 0.98818476\n",
      " 0.98829244 0.988399   0.98850497 0.98860929 0.98871239 0.98881425\n",
      " 0.98891411 0.98901284 0.98910972 0.9892062  0.98929994 0.98939295\n",
      " 0.98948467 0.98957557 0.98966612 0.98975489 0.98984283 0.98992923\n",
      " 0.99001535 0.99009924 0.99018248 0.9902653  0.9903469  0.99042758\n",
      " 0.99050726 0.99058508 0.99066237 0.99073894 0.99081436 0.99088916\n",
      " 0.99096378 0.99103699 0.99110984 0.99118159 0.99125217 0.99132211\n",
      " 0.9913909  0.99145895 0.9915266  0.99159406 0.99166082 0.99172676\n",
      " 0.99179179 0.99185639 0.99192036 0.99198374 0.99204597 0.99210732\n",
      " 0.99216848 0.99222845 0.99228833 0.99234777 0.99240668 0.99246497\n",
      " 0.99252215 0.99257871 0.99263437 0.99268921 0.99274381 0.99279756\n",
      " 0.992851   0.99290368 0.99295611 0.99300783 0.99305933 0.99311035\n",
      " 0.99316051 0.99321014 0.99325845 0.99330661 0.99335439 0.99340165\n",
      " 0.99344861 0.99349489 0.99354052 0.99358594 0.99363099 0.99367583\n",
      " 0.99371985 0.99376336 0.99380623 0.9938487  0.99389039 0.99393148\n",
      " 0.99397223 0.99401208 0.99405153 0.99409029]\n"
     ]
    }
   ],
   "source": [
    "# PCA \n",
    "nof_prin_components = 250  # PARAMETER for optimisation in expereiments\n",
    "pca = PCA(n_components=nof_prin_components, whiten=True, random_state=26).fit(X_train)\n",
    "\n",
    "# applies PCA to the train and test images to calculate the principal components\n",
    "X_pca = pca.transform(X)\n",
    "X_train_pca = pca.transform(X_train) \n",
    "X_test_pca = pca.transform(X_test)\n",
    "\n",
    "# Calculating explained variance ratio and cumulative explained variance ratio to find the best no of pca\n",
    "# Calculate the explained variance ratio for each component\n",
    "explained_variance_ratio = pca.explained_variance_ratio_\n",
    "\n",
    "# Calculate the cumulative explained variance ratio\n",
    "cumulative_explained_variance_ratio = np.cumsum(explained_variance_ratio)\n",
    "\n",
    "# Print the cumulative explained variance ratio\n",
    "print(\"Cumulative explained variance ratio: \\n\", cumulative_explained_variance_ratio)"
   ]
  },
  {
   "cell_type": "markdown",
   "id": "2e80c94c",
   "metadata": {},
   "source": [
    "# MLP Classifier"
   ]
  },
  {
   "cell_type": "code",
   "execution_count": 50,
   "id": "b98e92f0",
   "metadata": {
    "scrolled": false
   },
   "outputs": [
    {
     "name": "stdout",
     "output_type": "stream",
     "text": [
      "Fitting the classifier to the training set\n"
     ]
    }
   ],
   "source": [
    "# training a neural network using MLP\n",
    "nohn = 250 #nof hidden neurons\n",
    "print(\"Fitting the classifier to the training set\")\n",
    "clf = MLPClassifier(hidden_layer_sizes=(nohn,), solver='sgd', activation='tanh', batch_size=250, verbose=False, \n",
    "                    early_stopping=True, random_state=26).fit(X_train_pca, y_train)"
   ]
  },
  {
   "cell_type": "code",
   "execution_count": 51,
   "id": "ee94aa20",
   "metadata": {},
   "outputs": [
    {
     "name": "stdout",
     "output_type": "stream",
     "text": [
      "              precision    recall  f1-score   support\n",
      "\n",
      "         2.0       0.77      0.67      0.71        15\n",
      "         3.0       0.77      0.68      0.72        25\n",
      "         4.0       0.94      0.80      0.86        20\n",
      "         5.0       0.61      0.79      0.69        14\n",
      "         6.0       0.88      0.88      0.88        16\n",
      "         7.0       0.92      0.79      0.85        14\n",
      "         8.0       0.43      0.30      0.35        10\n",
      "         9.0       0.86      0.86      0.86        14\n",
      "        11.0       0.81      0.89      0.85        19\n",
      "        12.0       0.92      0.86      0.89        14\n",
      "        13.0       0.75      0.64      0.69        14\n",
      "        15.0       0.83      0.87      0.85        23\n",
      "        16.0       0.80      0.80      0.80        15\n",
      "        17.0       0.71      0.62      0.67        16\n",
      "        18.0       0.84      1.00      0.91        21\n",
      "        20.0       0.94      0.94      0.94        17\n",
      "        22.0       0.87      0.76      0.81        17\n",
      "        23.0       0.71      0.71      0.71        17\n",
      "        24.0       0.94      1.00      0.97        16\n",
      "        25.0       0.89      0.89      0.89        19\n",
      "        26.0       0.71      0.71      0.71        14\n",
      "        27.0       0.59      0.67      0.62        15\n",
      "        28.0       0.71      0.91      0.80        11\n",
      "        32.0       0.92      0.73      0.81        15\n",
      "        33.0       0.68      0.79      0.73        19\n",
      "        34.0       0.71      0.94      0.81        16\n",
      "        35.0       0.80      0.71      0.75        17\n",
      "        37.0       0.53      0.77      0.62        13\n",
      "        38.0       0.84      0.89      0.86        18\n",
      "        39.0       1.00      0.67      0.80        21\n",
      "\n",
      "    accuracy                           0.79       495\n",
      "   macro avg       0.79      0.78      0.78       495\n",
      "weighted avg       0.80      0.79      0.79       495\n",
      "\n"
     ]
    }
   ],
   "source": [
    "clf_y_pred = clf.predict(X_test_pca) # reoognises the test images \n",
    "print(classification_report(y_test, y_pred)) # the recognition accuracy"
   ]
  },
  {
   "cell_type": "code",
   "execution_count": 52,
   "id": "4a4a14f1",
   "metadata": {},
   "outputs": [
    {
     "name": "stdout",
     "output_type": "stream",
     "text": [
      "Cross Validation Scores :  [0.89666667 0.86666667 0.81333333 0.86333333 0.84666667]\n",
      "Average Accuracy :  0.8573333333333334\n"
     ]
    }
   ],
   "source": [
    "clf_cross_val_result = cross_val_score(clf, X_pca, y, cv=5)\n",
    "\n",
    "print(\"Cross Validation Scores : \", clf_cross_val_result)\n",
    "print(\"Average Accuracy : \", np.mean(clf_cross_val_result))"
   ]
  },
  {
   "cell_type": "code",
   "execution_count": 53,
   "id": "f7611567",
   "metadata": {},
   "outputs": [
    {
     "name": "stdout",
     "output_type": "stream",
     "text": [
      "Accuracy :  0.8707070707070707\n"
     ]
    }
   ],
   "source": [
    "print('Accuracy : ', metrics.accuracy_score(y_test, clf_y_pred))"
   ]
  },
  {
   "cell_type": "markdown",
   "id": "9ec9a05f",
   "metadata": {},
   "source": [
    "# Adam Boosting Classifier"
   ]
  },
  {
   "cell_type": "code",
   "execution_count": 54,
   "id": "d66b3f7d",
   "metadata": {},
   "outputs": [],
   "source": [
    "# training nerual nertwork using Adaboosting\n",
    "adboost = AdaBoostClassifier(DecisionTreeClassifier(max_depth=2), n_estimators=200, algorithm='SAMME.R',\n",
    "                            learning_rate=0.5, random_state=26).fit(X_train_pca, y_train)"
   ]
  },
  {
   "cell_type": "code",
   "execution_count": 55,
   "id": "6c65df31",
   "metadata": {},
   "outputs": [
    {
     "name": "stdout",
     "output_type": "stream",
     "text": [
      "Accuracy :  0.44242424242424244\n"
     ]
    }
   ],
   "source": [
    "ada_y_pred = adboost.predict(X_test_pca)\n",
    "print('Accuracy : ', metrics.accuracy_score(y_test, ada_y_pred))"
   ]
  },
  {
   "cell_type": "code",
   "execution_count": 56,
   "id": "330adcff",
   "metadata": {},
   "outputs": [
    {
     "name": "stdout",
     "output_type": "stream",
     "text": [
      "Cross Validation Scores :  [0.66333333 0.56333333 0.49       0.52666667 0.43333333]\n",
      "Average Accuracy :  0.5353333333333333\n"
     ]
    }
   ],
   "source": [
    "ada_cross_val_result = cross_val_score(adbost, X_pca, y, cv=5)\n",
    "\n",
    "print(\"Cross Validation Scores : \", ada_cross_val_result)\n",
    "print(\"Average Accuracy : \", np.mean(ada_cross_val_result))"
   ]
  },
  {
   "cell_type": "code",
   "execution_count": 57,
   "id": "0af27792",
   "metadata": {},
   "outputs": [
    {
     "name": "stdout",
     "output_type": "stream",
     "text": [
      "              precision    recall  f1-score   support\n",
      "\n",
      "         2.0       0.78      0.47      0.58        15\n",
      "         3.0       0.47      0.28      0.35        25\n",
      "         4.0       0.45      0.25      0.32        20\n",
      "         5.0       0.75      0.64      0.69        14\n",
      "         6.0       0.20      0.56      0.29        16\n",
      "         7.0       0.50      0.36      0.42        14\n",
      "         8.0       0.10      0.20      0.13        10\n",
      "         9.0       1.00      0.57      0.73        14\n",
      "        11.0       1.00      0.26      0.42        19\n",
      "        12.0       0.88      0.50      0.64        14\n",
      "        13.0       1.00      0.50      0.67        14\n",
      "        15.0       1.00      0.26      0.41        23\n",
      "        16.0       0.88      0.47      0.61        15\n",
      "        17.0       0.88      0.44      0.58        16\n",
      "        18.0       1.00      0.62      0.76        21\n",
      "        20.0       0.12      0.18      0.14        17\n",
      "        22.0       1.00      0.47      0.64        17\n",
      "        23.0       0.38      0.47      0.42        17\n",
      "        24.0       0.61      0.69      0.65        16\n",
      "        25.0       0.26      0.37      0.30        19\n",
      "        26.0       0.56      0.64      0.60        14\n",
      "        27.0       0.57      0.80      0.67        15\n",
      "        28.0       0.56      0.82      0.67        11\n",
      "        32.0       0.92      0.73      0.81        15\n",
      "        33.0       0.06      0.05      0.06        19\n",
      "        34.0       0.53      0.56      0.55        16\n",
      "        35.0       0.12      0.35      0.18        17\n",
      "        37.0       0.27      0.92      0.42        13\n",
      "        38.0       0.00      0.00      0.00        18\n",
      "        39.0       0.82      0.43      0.56        21\n",
      "\n",
      "    accuracy                           0.44       495\n",
      "   macro avg       0.59      0.46      0.48       495\n",
      "weighted avg       0.59      0.44      0.47       495\n",
      "\n"
     ]
    }
   ],
   "source": [
    "print(classification_report(y_test, ada_y_pred)) # the recognition accuracy"
   ]
  },
  {
   "cell_type": "markdown",
   "id": "142ba25a",
   "metadata": {},
   "source": [
    "# Pairwise Classifier"
   ]
  },
  {
   "cell_type": "code",
   "execution_count": 37,
   "id": "b3aa6075",
   "metadata": {},
   "outputs": [],
   "source": [
    "# training a neural network using Pairwise\n",
    "pair = OneVsOneClassifier(LinearSVC()).fit(X_train_pca, y_train)"
   ]
  },
  {
   "cell_type": "code",
   "execution_count": 69,
   "id": "b8105ac8",
   "metadata": {},
   "outputs": [
    {
     "name": "stdout",
     "output_type": "stream",
     "text": [
      "Accuracy :  0.9333333333333333\n"
     ]
    }
   ],
   "source": [
    "pair_y_pred = pair.predict(X_test_pca)\n",
    "print('Accuracy : ', metrics.accuracy_score(y_test, pair_y_pred))"
   ]
  },
  {
   "cell_type": "code",
   "execution_count": 72,
   "id": "2ef493d1",
   "metadata": {},
   "outputs": [
    {
     "name": "stdout",
     "output_type": "stream",
     "text": [
      "Cross Validation Scores :  [0.98333333 0.98333333 0.94666667 0.98333333 0.96333333]\n",
      "Average Accuracy :  0.9719999999999999\n"
     ]
    }
   ],
   "source": [
    "pair_cross_val_result = cross_val_score(pair, X_pca, y, cv=5)\n",
    "\n",
    "print(\"Cross Validation Scores : \", pair_cross_val_result)\n",
    "print(\"Average Accuracy : \", np.mean(pair_cross_val_result))"
   ]
  },
  {
   "cell_type": "code",
   "execution_count": 73,
   "id": "ed9db6c8",
   "metadata": {},
   "outputs": [
    {
     "name": "stdout",
     "output_type": "stream",
     "text": [
      "              precision    recall  f1-score   support\n",
      "\n",
      "         2.0       1.00      0.93      0.97        15\n",
      "         3.0       0.92      0.96      0.94        25\n",
      "         4.0       0.87      1.00      0.93        20\n",
      "         5.0       1.00      0.93      0.96        14\n",
      "         6.0       1.00      1.00      1.00        16\n",
      "         7.0       0.93      0.93      0.93        14\n",
      "         8.0       0.42      0.80      0.55        10\n",
      "         9.0       1.00      1.00      1.00        14\n",
      "        11.0       1.00      1.00      1.00        19\n",
      "        12.0       1.00      0.93      0.96        14\n",
      "        13.0       1.00      0.93      0.96        14\n",
      "        15.0       1.00      0.91      0.95        23\n",
      "        16.0       0.88      0.93      0.90        15\n",
      "        17.0       1.00      0.81      0.90        16\n",
      "        18.0       1.00      1.00      1.00        21\n",
      "        20.0       0.94      1.00      0.97        17\n",
      "        22.0       1.00      0.94      0.97        17\n",
      "        23.0       1.00      0.88      0.94        17\n",
      "        24.0       1.00      1.00      1.00        16\n",
      "        25.0       1.00      0.95      0.97        19\n",
      "        26.0       1.00      1.00      1.00        14\n",
      "        27.0       0.88      1.00      0.94        15\n",
      "        28.0       1.00      0.91      0.95        11\n",
      "        32.0       0.75      1.00      0.86        15\n",
      "        33.0       0.94      0.79      0.86        19\n",
      "        34.0       0.88      0.94      0.91        16\n",
      "        35.0       0.93      0.76      0.84        17\n",
      "        37.0       0.92      0.92      0.92        13\n",
      "        38.0       1.00      0.89      0.94        18\n",
      "        39.0       0.95      0.90      0.93        21\n",
      "\n",
      "    accuracy                           0.93       495\n",
      "   macro avg       0.94      0.93      0.93       495\n",
      "weighted avg       0.95      0.93      0.94       495\n",
      "\n"
     ]
    }
   ],
   "source": [
    "print(classification_report(y_test, pair_y_pred)) # the recognition accuracy"
   ]
  }
 ],
 "metadata": {
  "kernelspec": {
   "display_name": "Python 3 (ipykernel)",
   "language": "python",
   "name": "python3"
  },
  "language_info": {
   "codemirror_mode": {
    "name": "ipython",
    "version": 3
   },
   "file_extension": ".py",
   "mimetype": "text/x-python",
   "name": "python",
   "nbconvert_exporter": "python",
   "pygments_lexer": "ipython3",
   "version": "3.10.7"
  }
 },
 "nbformat": 4,
 "nbformat_minor": 5
}
