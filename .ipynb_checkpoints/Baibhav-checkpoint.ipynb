{
 "cells": [
  {
   "cell_type": "markdown",
   "id": "2ee8eaf9",
   "metadata": {},
   "source": [
    "## Assignment 1 : Design of Machine Learning Solution for Biometric Recognition Task\n"
   ]
  },
  {
   "cell_type": "markdown",
   "id": "8842aa7f",
   "metadata": {},
   "source": [
    "##  Image processing"
   ]
  },
  {
   "cell_type": "markdown",
   "id": "c20cce51",
   "metadata": {},
   "source": [
    "### 1. Imports"
   ]
  },
  {
   "cell_type": "code",
   "execution_count": 17,
   "id": "c9afecb4",
   "metadata": {},
   "outputs": [],
   "source": [
    "import os     # loads a library to work with data files\n",
    "from os import listdir # loads a library to work with directories \n",
    "\n",
    "from matplotlib import image # loads a library to work with images\n",
    "from matplotlib import pyplot as plt # loads a library to plot images\n",
    "\n",
    "import numpy as np  # loads a library for working with matrixes \n",
    "from numpy import asarray # loads a library for saving matrices\n",
    "from numpy import save # save matrices as files\n",
    "from numpy import load # Load matrices from files\n",
    "\n",
    "from sklearn.model_selection import train_test_split # loads functions from the ML library sklearn \n",
    "from sklearn.metrics import classification_report\n",
    "from sklearn.decomposition import PCA\n",
    "from sklearn.neural_network import MLPClassifier\n",
    "from sklearn.manifold import TSNE\n",
    "\n",
    "from sklearn.ensemble import AdaBoostClassifier\n",
    "from sklearn.model_selection import cross_val_score\n",
    "from sklearn.tree import DecisionTreeClassifier\n",
    "from sklearn import tree\n",
    "\n",
    "\n",
    "\n",
    "import datetime\n"
   ]
  },
  {
   "cell_type": "markdown",
   "id": "9328920b",
   "metadata": {},
   "source": [
    "### 2. Getting images ready"
   ]
  },
  {
   "cell_type": "code",
   "execution_count": 18,
   "id": "e0afdf64",
   "metadata": {},
   "outputs": [
    {
     "name": "stdout",
     "output_type": "stream",
     "text": [
      "'Assignment Design of Machine Learning Solution for Biometric Recognition Task.ipynb'\r\n",
      " classify_yale.ipynb\r\n",
      " process_yale_images.ipynb\r\n",
      " Tr0\r\n",
      " Tr0.zip\r\n",
      " yaleExtB_data.npy\r\n",
      " yaleExtB_target.npy\r\n"
     ]
    }
   ],
   "source": [
    "!ls \"./\" # shows all files in your project\n",
    "path = \"./\" # sets the path to the root"
   ]
  },
  {
   "cell_type": "code",
   "execution_count": 19,
   "id": "80110cbf",
   "metadata": {},
   "outputs": [],
   "source": [
    "os.chdir(path) \n",
    "dnam = 'Tr0'\n",
    "# !unzip -q {dnam} # unzups the project file Tr0"
   ]
  },
  {
   "cell_type": "code",
   "execution_count": 20,
   "id": "2560c442",
   "metadata": {},
   "outputs": [
    {
     "name": "stdout",
     "output_type": "stream",
     "text": [
      "Number of images 1500\n"
     ]
    }
   ],
   "source": [
    "fls = listdir(path + dnam) # creates a list of all image files\n",
    "n = len(fls) # the number of the image files  \n",
    "print('Number of images %i' % n)"
   ]
  },
  {
   "cell_type": "markdown",
   "id": "4e0b3175",
   "metadata": {},
   "source": [
    "### 3. Working with image"
   ]
  },
  {
   "cell_type": "code",
   "execution_count": 21,
   "id": "47892f60",
   "metadata": {},
   "outputs": [
    {
     "name": "stdout",
     "output_type": "stream",
     "text": [
      "(77, 68)\n"
     ]
    },
    {
     "data": {
      "image/png": "[encoded data removed]",
      "text/plain": [
       "<Figure size 640x480 with 1 Axes>"
      ]
     },
     "metadata": {},
     "output_type": "display_data"
    }
   ],
   "source": [
    "from matplotlib import image # loads a library to work with images\n",
    "from matplotlib import pyplot # loads a library to plot images\n",
    "im1 = image.imread(path + dnam + '/' + fls[4]) # chooses 1st image from the image list\n",
    "print(im1.shape) # prints the size in pixels of the chosen image \n",
    "pyplot.imshow(im1, cmap=pyplot.cm.gray) # displays the image\n",
    "pyplot.show()"
   ]
  },
  {
   "cell_type": "markdown",
   "id": "b653eaef",
   "metadata": {},
   "source": [
    "### 4. ANN Foundation"
   ]
  },
  {
   "cell_type": "code",
   "execution_count": 22,
   "id": "0f159b2a",
   "metadata": {},
   "outputs": [
    {
     "name": "stdout",
     "output_type": "stream",
     "text": [
      "Number of pixels in images :  5236 \n",
      "\n",
      "nxm-matrix of the images : \n",
      " [[0. 0. 0. ... 0. 0. 0.]\n",
      " [0. 0. 0. ... 0. 0. 0.]\n",
      " [0. 0. 0. ... 0. 0. 0.]\n",
      " ...\n",
      " [0. 0. 0. ... 0. 0. 0.]\n",
      " [0. 0. 0. ... 0. 0. 0.]\n",
      " [0. 0. 0. ... 0. 0. 0.]] \n",
      "\n",
      "n*1 matrix of targets : \n",
      " [0. 0. 0. ... 0. 0. 0.]\n"
     ]
    }
   ],
   "source": [
    "m = im1.shape[0]*im1.shape[1]  # m = h*w = (77*68=5236) is the number of pixels in images\n",
    "print(\"Number of pixels in images : \", m, \"\\n\")\n",
    "\n",
    "images_data = np.zeros((n, m)) # creates a nxm-matrix of the images\n",
    "print(\"nxm-matrix of the images : \\n\", images_data, \"\\n\")\n",
    "\n",
    "images_target = np.zeros((n,))  # creates a n*1 matrix of targets which are the person labels 1 tp 30\n",
    "print(\"n*1 matrix of targets : \\n\", images_target)"
   ]
  },
  {
   "cell_type": "markdown",
   "id": "26b1e1d0",
   "metadata": {},
   "source": [
    "### 5. Getting data from images"
   ]
  },
  {
   "cell_type": "code",
   "execution_count": 23,
   "id": "325c8393",
   "metadata": {},
   "outputs": [
    {
     "name": "stdout",
     "output_type": "stream",
     "text": [
      "> loaded 0 yaleB09_P00A+020E+10.jpg 9\n",
      "> loaded 10 yaleB03_P00A-050E+00.jpg 3\n",
      "> loaded 20 yaleB11_P00A+005E+10.jpg 11\n",
      "> loaded 30 yaleB12_P00A+035E+40.jpg 12\n",
      "> loaded 40 yaleB13_P00A+050E+00.jpg 13\n",
      "> loaded 50 yaleB32_P00A+110E+40.jpg 32\n",
      "> loaded 60 yaleB02_P00A-025E+00.jpg 2\n",
      "> loaded 70 yaleB13_P00A-020E+10.jpg 13\n",
      "> loaded 80 yaleB37_P00A+010E+00.jpg 37\n",
      "> loaded 90 yaleB28_P00A+110E+65.jpg 28\n",
      "> loaded 100 yaleB11_P00A+025E+00.jpg 11\n",
      "> loaded 110 yaleB15_P00A+070E-35.jpg 15\n",
      "> loaded 120 yaleB25_P00A-010E+00.jpg 25\n",
      "> loaded 130 yaleB25_P00A+035E+40.jpg 25\n",
      "> loaded 140 yaleB22_P00A+020E-40.jpg 22\n",
      "> loaded 150 yaleB05_P00A+085E-20.jpg 5\n",
      "> loaded 160 yaleB20_P00A-035E+15.jpg 20\n",
      "> loaded 170 yaleB06_P00A-005E-10.jpg 6\n",
      "> loaded 180 yaleB02_P00A+000E+00.jpg 2\n",
      "> loaded 190 yaleB27_P00A-020E+10.jpg 27\n",
      "> loaded 200 yaleB16_P00A-010E-20.jpg 16\n",
      "> loaded 210 yaleB04_P00A+060E+20.jpg 4\n",
      "> loaded 220 yaleB35_P00A-010E+00.jpg 35\n",
      "> loaded 230 yaleB05_P00A+020E+10.jpg 5\n",
      "> loaded 240 yaleB28_P00A+000E+00.jpg 28\n",
      "> loaded 250 yaleB17_P00A+020E-10.jpg 17\n",
      "> loaded 260 yaleB13_P00A+010E-20.jpg 13\n",
      "> loaded 270 yaleB32_P00A-020E-10.jpg 32\n",
      "> loaded 280 yaleB09_P00A+010E-20.jpg 9\n",
      "> loaded 290 yaleB09_P00A+070E+45.jpg 9\n",
      "> loaded 300 yaleB02_P00A-010E-20.jpg 2\n",
      "> loaded 310 yaleB28_P00A+120E+00.jpg 28\n",
      "> loaded 320 yaleB15_P00A+010E+00.jpg 15\n",
      "> loaded 330 yaleB26_P00A-010E-20.jpg 26\n",
      "> loaded 340 yaleB17_P00A+035E+40.jpg 17\n",
      "> loaded 350 yaleB17_P00A-035E+65.jpg 17\n",
      "> loaded 360 yaleB06_P00A+010E-20.jpg 6\n",
      "> loaded 370 yaleB35_P00A+010E+00.jpg 35\n",
      "> loaded 380 yaleB05_P00A+120E+00.jpg 5\n",
      "> loaded 390 yaleB04_P00A+110E+15.jpg 4\n",
      "> loaded 400 yaleB39_P00A-050E+00.jpg 39\n",
      "> loaded 410 yaleB27_P00A-005E+10.jpg 27\n",
      "> loaded 420 yaleB23_P00A+035E+65.jpg 23\n",
      "> loaded 430 yaleB33_P00A-020E-40.jpg 33\n",
      "> loaded 440 yaleB27_P00A-005E-10.jpg 27\n",
      "> loaded 450 yaleB03_P00A+020E+10.jpg 3\n",
      "> loaded 460 yaleB05_P00A+070E-35.jpg 5\n",
      "> loaded 470 yaleB18_P00A+010E+00.jpg 18\n",
      "> loaded 480 yaleB03_P00A+060E+20.jpg 3\n",
      "> loaded 490 yaleB02_P00A+035E-20.jpg 2\n",
      "> loaded 500 yaleB37_P00A-015E+20.jpg 37\n",
      "> loaded 510 yaleB22_P00A+120E+00.jpg 22\n",
      "> loaded 520 yaleB07_P00A-020E-40.jpg 7\n",
      "> loaded 530 yaleB38_P00A+110E+15.jpg 38\n",
      "> loaded 540 yaleB27_P00A+005E-10.jpg 27\n",
      "> loaded 550 yaleB08_P00A+110E-20.jpg 8\n",
      "> loaded 560 yaleB08_P00A+000E+90.jpg 8\n",
      "> loaded 570 yaleB12_P00A+035E+65.jpg 12\n",
      "> loaded 580 yaleB35_P00A+000E+90.jpg 35\n",
      "> loaded 590 yaleB03_P00A+110E+65.jpg 3\n",
      "> loaded 600 yaleB32_P00A+005E+10.jpg 32\n",
      "> loaded 610 yaleB23_P00A-060E-20.jpg 23\n",
      "> loaded 620 yaleB02_P00A-020E+10.jpg 2\n",
      "> loaded 630 yaleB24_P00A+000E+00.jpg 24\n",
      "> loaded 640 yaleB05_P00A+025E+00.jpg 5\n",
      "> loaded 650 yaleB37_P00A+000E+00.jpg 37\n",
      "> loaded 660 yaleB33_P00A-025E+00.jpg 33\n",
      "> loaded 670 yaleB15_P00A+025E+00.jpg 15\n",
      "> loaded 680 yaleB17_P00A+130E+20.jpg 17\n",
      "> loaded 690 yaleB02_P00A+025E+00.jpg 2\n",
      "> loaded 700 yaleB33_P00A-010E-20.jpg 33\n",
      "> loaded 710 yaleB02_P00A-015E+20.jpg 2\n",
      "> loaded 720 yaleB11_P00A+060E+20.jpg 11\n",
      "> loaded 730 yaleB37_P00A-070E+00.jpg 37\n",
      "> loaded 740 yaleB09_P00A+110E+40.jpg 9\n",
      "> loaded 750 yaleB32_P00A+070E+00.jpg 32\n",
      "> loaded 760 yaleB24_P00A+060E-20.jpg 24\n",
      "> loaded 770 yaleB22_P00A-005E-10.jpg 22\n",
      "> loaded 780 yaleB16_P00A-035E+65.jpg 16\n",
      "> loaded 790 yaleB18_P00A-025E+00.jpg 18\n",
      "> loaded 800 yaleB34_P00A+005E+10.jpg 34\n",
      "> loaded 810 yaleB16_P00A+035E-20.jpg 16\n",
      "> loaded 820 yaleB25_P00A-050E+00.jpg 25\n",
      "> loaded 830 yaleB26_P00A+000E+90.jpg 26\n",
      "> loaded 840 yaleB13_P00A+110E+15.jpg 13\n",
      "> loaded 850 yaleB16_P00A-005E-10.jpg 16\n",
      "> loaded 860 yaleB25_P00A+000E+00.jpg 25\n",
      "> loaded 870 yaleB09_P00A-035E+15.jpg 9\n",
      "> loaded 880 yaleB04_P00A+020E-10.jpg 4\n",
      "> loaded 890 yaleB06_P00A-035E-20.jpg 6\n",
      "> loaded 900 yaleB28_P00A+000E-20.jpg 28\n",
      "> loaded 910 yaleB25_P00A-050E-40.jpg 25\n",
      "> loaded 920 yaleB27_P00A+110E+15.jpg 27\n",
      "> loaded 930 yaleB15_P00A-020E-40.jpg 15\n",
      "> loaded 940 yaleB11_P00A-050E+00.jpg 11\n",
      "> loaded 950 yaleB15_P00A+020E+10.jpg 15\n",
      "> loaded 960 yaleB20_P00A-015E+20.jpg 20\n",
      "> loaded 970 yaleB27_P00A+070E-35.jpg 27\n",
      "> loaded 980 yaleB37_P00A+035E+15.jpg 37\n",
      "> loaded 990 yaleB27_P00A+020E-40.jpg 27\n",
      "> loaded 1000 yaleB07_P00A+020E-40.jpg 7\n",
      "> loaded 1010 yaleB15_P00A-050E+00.jpg 15\n",
      "> loaded 1020 yaleB37_P00A+050E+00.jpg 37\n",
      "> loaded 1030 yaleB24_P00A+020E+10.jpg 24\n",
      "> loaded 1040 yaleB17_P00A-025E+00.jpg 17\n",
      "> loaded 1050 yaleB12_P00A-015E+20.jpg 12\n",
      "> loaded 1060 yaleB18_P00A+035E+15.jpg 18\n",
      "> loaded 1070 yaleB37_P00A+060E-20.jpg 37\n",
      "> loaded 1080 yaleB38_P00A+020E-40.jpg 38\n",
      "> loaded 1090 yaleB32_P00A+035E+65.jpg 32\n",
      "> loaded 1100 yaleB23_P00A+060E+20.jpg 23\n",
      "> loaded 1110 yaleB38_P00A-010E+00.jpg 38\n",
      "> loaded 1120 yaleB34_P00A+060E-20.jpg 34\n",
      "> loaded 1130 yaleB07_P00A+010E+00.jpg 7\n",
      "> loaded 1140 yaleB08_P00A-070E+00.jpg 8\n",
      "> loaded 1150 yaleB13_P00A+005E+10.jpg 13\n",
      "> loaded 1160 yaleB26_P00A-035E+40.jpg 26\n",
      "> loaded 1170 yaleB23_P00A+110E+40.jpg 23\n",
      "> loaded 1180 yaleB12_P00A+110E+15.jpg 12\n",
      "> loaded 1190 yaleB13_P00A+060E+20.jpg 13\n",
      "> loaded 1200 yaleB18_P00A+110E+15.jpg 18\n",
      "> loaded 1210 yaleB35_P00A+035E+40.jpg 35\n",
      "> loaded 1220 yaleB11_P00A+000E+90.jpg 11\n",
      "> loaded 1230 yaleB09_P00A-005E-10.jpg 9\n",
      "> loaded 1240 yaleB25_P00A-010E-20.jpg 25\n",
      "> loaded 1250 yaleB26_P00A-050E-40.jpg 26\n",
      "> loaded 1260 yaleB12_P00A+035E-20.jpg 12\n",
      "> loaded 1270 yaleB25_P00A+005E-10.jpg 25\n",
      "> loaded 1280 yaleB06_P00A+110E+65.jpg 6\n",
      "> loaded 1290 yaleB03_P00A+010E+00.jpg 3\n",
      "> loaded 1300 yaleB23_P00A-050E+00.jpg 23\n",
      "> loaded 1310 yaleB27_P00A+060E+20.jpg 27\n",
      "> loaded 1320 yaleB08_P00A-015E+20.jpg 8\n",
      "> loaded 1330 yaleB33_P00A+070E-35.jpg 33\n",
      "> loaded 1340 yaleB15_P00A-025E+00.jpg 15\n",
      "> loaded 1350 yaleB15_P00A-015E+20.jpg 15\n",
      "> loaded 1360 yaleB13_P00A+060E-20.jpg 13\n",
      "> loaded 1370 yaleB09_P00A+025E+00.jpg 9\n",
      "> loaded 1380 yaleB03_P00A-005E-10.jpg 3\n",
      "> loaded 1390 yaleB27_P00A+005E+10.jpg 27\n",
      "> loaded 1400 yaleB22_P00A-015E+20.jpg 22\n",
      "> loaded 1410 yaleB06_P00A-060E+20.jpg 6\n",
      "> loaded 1420 yaleB12_P00A+000E+45.jpg 12\n",
      "> loaded 1430 yaleB16_P00A+120E+00.jpg 16\n",
      "> loaded 1440 yaleB11_P00A+010E-20.jpg 11\n",
      "> loaded 1450 yaleB06_P00A-020E-10.jpg 6\n",
      "> loaded 1460 yaleB07_P00A+020E+10.jpg 7\n",
      "> loaded 1470 yaleB18_P00A+000E+45.jpg 18\n",
      "> loaded 1480 yaleB17_P00A-060E+20.jpg 17\n",
      "> loaded 1490 yaleB16_P00A+000E-35.jpg 16\n"
     ]
    }
   ],
   "source": [
    "# loops over all n=1500 images \n",
    "for i in range(0, n):\n",
    "    filename = fls[i]  # loads a name of the image file\n",
    "\n",
    "    img = image.imread(path + dnam + '/' + filename) # loads the image name\n",
    "    images_data[i,:] = np.ravel(img) # vectorisation of the image \n",
    "    c = int(filename[5:7])  # extracts the class label from the file name\n",
    "    images_target[i] = c  # assigns the target \n",
    "    if i % 10 == 0:\n",
    "        print('> loaded %s %s %s' % (i, filename, c)) # prints the image name"
   ]
  },
  {
   "cell_type": "markdown",
   "id": "65e55fe3",
   "metadata": {},
   "source": [
    "### 6. Save the data and target as .npy files."
   ]
  },
  {
   "cell_type": "code",
   "execution_count": 24,
   "id": "a10d4810",
   "metadata": {},
   "outputs": [
    {
     "name": "stdout",
     "output_type": "stream",
     "text": [
      "'Assignment Design of Machine Learning Solution for Biometric Recognition Task.ipynb'\r\n",
      " classify_yale.ipynb\r\n",
      " process_yale_images.ipynb\r\n",
      " Tr0\r\n",
      " Tr0.zip\r\n",
      " yaleExtB_data.npy\r\n",
      " yaleExtB_target.npy\r\n"
     ]
    }
   ],
   "source": [
    "#save as a .npy file\n",
    "# fn = (path + '/' + 'yaleExtB_data.npy') # creates the file name for the image data\n",
    "# save(fn, images_data) \n",
    "# fn = (path + '/' + 'yaleExtB_target.npy') # creates the file name for the targets\n",
    "# save(fn, images_target)\n",
    "\n",
    "# Now the data and target are created as seperate .npy file\n",
    "\n",
    "!ls \"./\""
   ]
  },
  {
   "cell_type": "markdown",
   "id": "b2f6c4aa",
   "metadata": {},
   "source": [
    "## Classification using MLPClassifier"
   ]
  },
  {
   "cell_type": "markdown",
   "id": "a9f61925",
   "metadata": {},
   "source": [
    "###  1. Loading npy files"
   ]
  },
  {
   "cell_type": "code",
   "execution_count": 25,
   "id": "62922c02",
   "metadata": {},
   "outputs": [],
   "source": [
    "path = './'\n",
    "# load array\n",
    "y = load(path + 'yaleExtB_target.npy')\n",
    "X = load(path + 'yaleExtB_data.npy')"
   ]
  },
  {
   "cell_type": "markdown",
   "id": "24c23865",
   "metadata": {},
   "source": [
    "### 2. PCA"
   ]
  },
  {
   "cell_type": "code",
   "execution_count": 29,
   "id": "bff37a2c",
   "metadata": {},
   "outputs": [
    {
     "name": "stdout",
     "output_type": "stream",
     "text": [
      "length of x_train_pca :  1350\n",
      "length of X_test_pca :  150 \n",
      "\n",
      "Cumulative explained variance ratio: \n",
      " [0.41926801 0.69066653 0.74867648 0.77573033 0.7959324  0.80971609\n",
      " 0.82161828 0.83249087 0.84053011 0.84849167 0.85603449 0.86244117\n",
      " 0.86844721 0.87402423 0.87904888 0.88390545 0.88796837 0.89177356\n",
      " 0.89530596 0.89869838 0.90187627 0.90488124 0.90780601 0.91053593\n",
      " 0.91307654 0.91543737 0.91768982 0.91988108 0.92192323 0.92391763\n",
      " 0.92575821 0.92754427 0.9292333  0.93082286 0.93240623 0.93389296\n",
      " 0.93530243 0.93669645 0.93805558 0.93933924 0.940601   0.94182541\n",
      " 0.94300362 0.94412554 0.94524183 0.9462812  0.94729624 0.94830567\n",
      " 0.94926555 0.95020771 0.95111888 0.9519931  0.95283404 0.95364961\n",
      " 0.95445619 0.95524197 0.95600918 0.95675744 0.95746011 0.9581565\n",
      " 0.95882519 0.95947918 0.96011539 0.96073951 0.96134814 0.96194628\n",
      " 0.96253584 0.96311977 0.96368289 0.96422234 0.96475867 0.96527498\n",
      " 0.96578217 0.96628778 0.9667806  0.96726266 0.96773962 0.96819254\n",
      " 0.96863228 0.96906285 0.96948362 0.96989991 0.97031073 0.97071299\n",
      " 0.97110412 0.97148763 0.97186874 0.97223951 0.97259438 0.97294788\n",
      " 0.97329289 0.97362997 0.97395556 0.97427697 0.97459649 0.97490675\n",
      " 0.97521399 0.9755162  0.97580841 0.97609673 0.97638244 0.97665799\n",
      " 0.9769328  0.97720087 0.97746816 0.97772868 0.97797918 0.97822613\n",
      " 0.97846929 0.97870947 0.97894708 0.97917867 0.97940502 0.97962678\n",
      " 0.97984339 0.98005924 0.98027027 0.98047996 0.98068679 0.98089114\n",
      " 0.98109087 0.98128779 0.98148153 0.98167305 0.98185764 0.98204049\n",
      " 0.98222064 0.98239963 0.98257719 0.98275261 0.98292107 0.98308747\n",
      " 0.98325221 0.98341031 0.98356699 0.98372174 0.98387344 0.9840242\n",
      " 0.98417136 0.9843179  0.98446226 0.98460463 0.98474438 0.98488366\n",
      " 0.9850222  0.98515941 0.98529353 0.98542694 0.9855573  0.98568735\n",
      " 0.98581605 0.98594375 0.9860682  0.98618988 0.98631118 0.98643168\n",
      " 0.98655138 0.98666889 0.9867835  0.98689648 0.98700822 0.98711818\n",
      " 0.98722792 0.98733457 0.98744021 0.98754569 0.98764847 0.98774965\n",
      " 0.98785019 0.98794948 0.98804799 0.98814558 0.98824187 0.98833783\n",
      " 0.98843182 0.98852481 0.98861706 0.98870846 0.98879858 0.98888711\n",
      " 0.98897437 0.98905926 0.98914359 0.98922714 0.98931012 0.98939245\n",
      " 0.98947337 0.98955344 0.98963339 0.98971252 0.98979096 0.98986836\n",
      " 0.98994496 0.9900207  0.99009558 0.99017    0.99024401 0.99031673\n",
      " 0.99038908 0.99046012 0.99052965 0.99059875 0.99066656 0.99073421\n",
      " 0.99080134 0.99086783 0.99093382 0.99099892 0.99106343 0.99112737\n",
      " 0.99119116 0.9912541  0.99131649 0.99137866 0.99144051 0.99150162\n",
      " 0.99156161 0.99162047 0.9916791  0.99173686 0.9917943  0.99185137\n",
      " 0.99190716 0.99196257 0.99201745 0.9920717  0.99212558 0.99217917\n",
      " 0.99223255 0.99228514 0.99233722 0.9923886  0.99243983 0.99249057\n",
      " 0.99254078 0.99259005 0.99263915 0.99268767 0.99273587 0.99278381\n",
      " 0.99283117 0.99287803 0.99292463 0.99297094 0.99301711 0.99306282\n",
      " 0.99310754 0.99315217 0.9931963  0.99324014]\n"
     ]
    }
   ],
   "source": [
    "# split into a training and testing set\n",
    "X_train, X_test, y_train, y_test = train_test_split(X, y, test_size=0.1)\n",
    "\n",
    "nof_prin_components = 250\n",
    "pca = PCA( n_components= nof_prin_components, svd_solver = 'full', whiten=True).fit(X_train)\n",
    "\n",
    "X_train_pca = pca.transform(X_train)\n",
    "X_test_pca = pca.transform(X_test)\n",
    "\n",
    "print(\"length of x_train_pca : \", len(X_train_pca))\n",
    "print(\"length of X_test_pca : \", len(X_test_pca), \"\\n\")\n",
    "\n",
    "\n",
    "# Calculate the explained variance ratio for each component\n",
    "explained_variance_ratio = pca.explained_variance_ratio_\n",
    "\n",
    "# Calculate the cumulative explained variance ratio\n",
    "cumulative_explained_variance_ratio = np.cumsum(explained_variance_ratio)\n",
    "\n",
    "# Print the cumulative explained variance ratio\n",
    "print(\"Cumulative explained variance ratio: \\n\", cumulative_explained_variance_ratio)\n"
   ]
  },
  {
   "cell_type": "markdown",
   "id": "591f85a5",
   "metadata": {},
   "source": [
    "### 3. training a neural network"
   ]
  },
  {
   "cell_type": "code",
   "execution_count": 11,
   "id": "3f23782d",
   "metadata": {},
   "outputs": [],
   "source": [
    "# MLP Clasffifier\n",
    "\n",
    "# nohn = 120 # nof hidden neurons\n",
    "\n",
    "# print(\"Fitting the classifier to the training set \\n\")\n",
    "\n",
    "# start_t = datetime.datetime.now()\n",
    "\n",
    "\n",
    "\n",
    "# clf = MLPClassifier(hidden_layer_sizes = (nohn,), \n",
    "#                     solver='sgd', \n",
    "#                     activation = 'relu', \n",
    "#                     batch_size = 150, \n",
    "#                     verbose = True, \n",
    "#                     early_stopping = True).fit(X_train_pca, y_train)\n",
    "\n",
    "# end_t = datetime.datetime.now()\n",
    "\n",
    "# print(\"Processing Time : \", end_t-start_t)\n"
   ]
  },
  {
   "cell_type": "code",
   "execution_count": 37,
   "id": "4462d3d8",
   "metadata": {},
   "outputs": [],
   "source": [
    "#AdaBoost Classifier\n",
    "\n",
    "clf_abc = AdaBoostClassifier(DecisionTreeClassifier(max_depth=2), \n",
    "                              n_estimators=250, \n",
    "                              algorithm=\"SAMME.R\",\n",
    "                              learning_rate=0.1)\n",
    "clf = clf_abc.fit(X_train_pca, y_train)\n"
   ]
  },
  {
   "cell_type": "markdown",
   "id": "cf928e88",
   "metadata": {},
   "source": [
    "### 4. Final Report"
   ]
  },
  {
   "cell_type": "code",
   "execution_count": 34,
   "id": "e97357d5",
   "metadata": {},
   "outputs": [
    {
     "name": "stdout",
     "output_type": "stream",
     "text": [
      "              precision    recall  f1-score   support\n",
      "\n",
      "         2.0       1.00      0.86      0.92         7\n",
      "         3.0       0.60      0.75      0.67         4\n",
      "         4.0       0.50      0.67      0.57         3\n",
      "         5.0       0.80      1.00      0.89         4\n",
      "         6.0       0.83      1.00      0.91         5\n",
      "         7.0       0.50      0.67      0.57         3\n",
      "         8.0       0.46      1.00      0.63         6\n",
      "         9.0       1.00      0.67      0.80         3\n",
      "        11.0       1.00      1.00      1.00         4\n",
      "        12.0       1.00      0.71      0.83         7\n",
      "        13.0       1.00      1.00      1.00         4\n",
      "        15.0       1.00      1.00      1.00         8\n",
      "        16.0       1.00      0.60      0.75         5\n",
      "        17.0       1.00      1.00      1.00         5\n",
      "        18.0       1.00      0.57      0.73         7\n",
      "        20.0       0.75      0.67      0.71         9\n",
      "        22.0       0.83      0.83      0.83         6\n",
      "        23.0       1.00      1.00      1.00         4\n",
      "        24.0       1.00      0.86      0.92         7\n",
      "        25.0       0.33      1.00      0.50         3\n",
      "        26.0       1.00      0.80      0.89         5\n",
      "        27.0       0.60      0.75      0.67         4\n",
      "        28.0       1.00      0.50      0.67         4\n",
      "        32.0       0.67      0.33      0.44         6\n",
      "        33.0       0.60      1.00      0.75         3\n",
      "        34.0       1.00      0.60      0.75         5\n",
      "        35.0       1.00      0.40      0.57         5\n",
      "        37.0       1.00      0.75      0.86         4\n",
      "        38.0       0.64      1.00      0.78         7\n",
      "        39.0       1.00      0.33      0.50         3\n",
      "\n",
      "    accuracy                           0.78       150\n",
      "   macro avg       0.84      0.78      0.77       150\n",
      "weighted avg       0.85      0.78      0.78       150\n",
      "\n",
      "Processing Time :  0:00:00.066833\n"
     ]
    }
   ],
   "source": [
    "\n",
    "\n",
    "start_t = datetime.datetime.now()\n",
    "\n",
    "y_pred = clf.predict(X_test_pca) # recognises the test images \n",
    "print(classification_report(y_test, y_pred)) # the recognition accuracy\n",
    "\n",
    "end_t = datetime.datetime.now()\n",
    "\n",
    "\n",
    "print(\"Processing Time : \", end_t-start_t)\n"
   ]
  },
  {
   "cell_type": "markdown",
   "id": "01d30191",
   "metadata": {},
   "source": [
    "### 5. Using K-Fold"
   ]
  },
  {
   "cell_type": "code",
   "execution_count": 35,
   "id": "85504769",
   "metadata": {},
   "outputs": [],
   "source": [
    "\n",
    "# Perform 5-fold cross validation\n",
    "cross_val_result = cross_val_score(clf, X_train_pca, y_train, cv=5)\n"
   ]
  },
  {
   "cell_type": "code",
   "execution_count": 36,
   "id": "5bd88d0d",
   "metadata": {},
   "outputs": [
    {
     "name": "stdout",
     "output_type": "stream",
     "text": [
      "Cross validation scores \n",
      " [0.79259259 0.77037037 0.79259259 0.68148148 0.79259259] \n",
      "\n",
      "average accuracy : \n",
      " 0.765925925925926\n"
     ]
    }
   ],
   "source": [
    "\n",
    "# Print the cross-validation scores\n",
    "print(\"Cross validation scores \\n\", cross_val_result, \"\\n\")\n",
    "\n",
    "\n",
    "# Print the average accuracy\n",
    "print(\"average accuracy : \\n\", np.mean(cross_val_result))\n",
    "\n"
   ]
  },
  {
   "cell_type": "code",
   "execution_count": null,
   "id": "cfc95d93",
   "metadata": {},
   "outputs": [],
   "source": []
  }
 ],
 "metadata": {
  "kernelspec": {
   "display_name": "Python 3 (ipykernel)",
   "language": "python",
   "name": "python3"
  },
  "language_info": {
   "codemirror_mode": {
    "name": "ipython",
    "version": 3
   },
   "file_extension": ".py",
   "mimetype": "text/x-python",
   "name": "python",
   "nbconvert_exporter": "python",
   "pygments_lexer": "ipython3",
   "version": "3.10.7"
  }
 },
 "nbformat": 4,
 "nbformat_minor": 5
}
