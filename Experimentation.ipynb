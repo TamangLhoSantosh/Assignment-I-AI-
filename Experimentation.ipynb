{
 "cells": [
  {
   "cell_type": "markdown",
   "id": "58ebf090",
   "metadata": {},
   "source": [
    "# Imports"
   ]
  },
  {
   "cell_type": "code",
   "execution_count": 1,
   "id": "4435fb55",
   "metadata": {},
   "outputs": [],
   "source": [
    "from numpy import load # load the 2 npy files created by the process_yale_images.ipynb \n",
    "import numpy as np # to do mathematical calculation\n",
    "from sklearn.model_selection import train_test_split # to split the data for training and testing\n",
    "from sklearn.metrics import classification_report # to print the report of the classifier\n",
    "from sklearn import metrics # to show the accuracy of the \n",
    "from sklearn.decomposition import PCA # to decrease dimension\n",
    "from sklearn.model_selection import cross_val_score # K-Fold for any classifier\n",
    "from matplotlib import pyplot as plt # to plot in graph\n",
    "# MPL Classifier\n",
    "from sklearn.neural_network import MLPClassifier \n",
    "# AdaBoosting Classifier\n",
    "from sklearn.ensemble import AdaBoostClassifier\n",
    "from sklearn.tree import DecisionTreeClassifier\n",
    "# Pairwise Cslassifier (one vs one classifier)\n",
    "from sklearn.multiclass import OneVsOneClassifier\n",
    "from sklearn.svm import LinearSVC"
   ]
  },
  {
   "cell_type": "code",
   "execution_count": 2,
   "id": "e95e237e",
   "metadata": {},
   "outputs": [],
   "source": [
    "# load array\n",
    "X = load('./yaleExtB_data.npy')\n",
    "y = load('./yaleExtB_target.npy')\n",
    "\n",
    "# split into a training and testing set\n",
    "X_train, X_test, y_train, y_test = train_test_split(X, y, test_size=0.33, random_state=26)"
   ]
  },
  {
   "cell_type": "code",
   "execution_count": 3,
   "id": "71443f97",
   "metadata": {},
   "outputs": [],
   "source": [
    "# PCA \n",
    "nof_prin_components = 250  # PARAMETER for optimisation in expereiments\n",
    "pca = PCA(n_components=nof_prin_components, whiten=True, random_state=26).fit(X_train)\n",
    "\n",
    "# applies PCA to the train and test images to calculate the principal components\n",
    "X_pca = pca.transform(X)\n",
    "X_train_pca = pca.transform(X_train) \n",
    "X_test_pca = pca.transform(X_test)\n",
    "\n",
    "# # Calculating explained variance ratio and cumulative explained variance ratio to find the best no of pca\n",
    "# # Calculate the explained variance ratio for each component\n",
    "# explained_variance_ratio = pca.explained_variance_ratio_\n",
    "\n",
    "# # Calculate the cumulative explained variance ratio\n",
    "# cumulative_explained_variance_ratio = np.cumsum(explained_variance_ratio)\n",
    "\n",
    "# # Print the cumulative explained variance ratio\n",
    "# print(\"Cumulative explained variance ratio: \\n\", cumulative_explained_variance_ratio)"
   ]
  },
  {
   "cell_type": "markdown",
   "id": "2e80c94c",
   "metadata": {},
   "source": [
    "# MLP Classifier"
   ]
  },
  {
   "cell_type": "code",
   "execution_count": 4,
   "id": "b98e92f0",
   "metadata": {
    "scrolled": false
   },
   "outputs": [],
   "source": [
    "# training a neural network using MLP\n",
    "nohn = 400 #nof hidden neurons\n",
    "# print(\"Fitting the classifier to the training set\")\n",
    "clf = MLPClassifier(hidden_layer_sizes=(nohn,), solver='sgd', activation='tanh', batch_size=250, verbose=False, \n",
    "                    early_stopping=True, random_state=26).fit(X_train_pca, y_train)"
   ]
  },
  {
   "cell_type": "code",
   "execution_count": 5,
   "id": "ee94aa20",
   "metadata": {},
   "outputs": [
    {
     "name": "stdout",
     "output_type": "stream",
     "text": [
      "Accuracy :  0.8828282828282829\n"
     ]
    }
   ],
   "source": [
    "clf_y_pred = clf.predict(X_test_pca) # reoognises the test images \n",
    "# print(classification_report(y_test, y_pred)) # the recognition accuracy\n",
    "print(\"Accuracy : \", metrics.accuracy_score(y_test, clf_y_pred))"
   ]
  },
  {
   "cell_type": "code",
   "execution_count": 5,
   "id": "4a4a14f1",
   "metadata": {},
   "outputs": [
    {
     "name": "stdout",
     "output_type": "stream",
     "text": [
      "Cross Validation Scores :  [0.90333333 0.92333333 0.81666667 0.88333333 0.87      ]\n",
      "Average Accuracy :  0.8793333333333333\n"
     ]
    }
   ],
   "source": [
    "clf_cross_val_result = cross_val_score(clf, X_pca, y, cv=5)\n",
    "\n",
    "print(\"Cross Validation Scores : \", clf_cross_val_result)\n",
    "print(\"Average Accuracy : \", np.mean(clf_cross_val_result))"
   ]
  },
  {
   "cell_type": "markdown",
   "id": "de4e74b6",
   "metadata": {},
   "source": [
    "## Automation"
   ]
  },
  {
   "cell_type": "code",
   "execution_count": 6,
   "id": "116f3659",
   "metadata": {},
   "outputs": [
    {
     "name": "stderr",
     "output_type": "stream",
     "text": [
      "/Users/xic/Desktop/Assignment 1(AI)/Virtual/lib/python3.10/site-packages/sklearn/neural_network/_multilayer_perceptron.py:684: ConvergenceWarning: Stochastic Optimizer: Maximum iterations (1000) reached and the optimization hasn't converged yet.\n",
      "  warnings.warn(\n",
      "/Users/xic/Desktop/Assignment 1(AI)/Virtual/lib/python3.10/site-packages/sklearn/neural_network/_multilayer_perceptron.py:684: ConvergenceWarning: Stochastic Optimizer: Maximum iterations (1000) reached and the optimization hasn't converged yet.\n",
      "  warnings.warn(\n",
      "/Users/xic/Desktop/Assignment 1(AI)/Virtual/lib/python3.10/site-packages/sklearn/neural_network/_multilayer_perceptron.py:684: ConvergenceWarning: Stochastic Optimizer: Maximum iterations (1000) reached and the optimization hasn't converged yet.\n",
      "  warnings.warn(\n",
      "/Users/xic/Desktop/Assignment 1(AI)/Virtual/lib/python3.10/site-packages/sklearn/neural_network/_multilayer_perceptron.py:684: ConvergenceWarning: Stochastic Optimizer: Maximum iterations (1000) reached and the optimization hasn't converged yet.\n",
      "  warnings.warn(\n",
      "/Users/xic/Desktop/Assignment 1(AI)/Virtual/lib/python3.10/site-packages/sklearn/neural_network/_multilayer_perceptron.py:684: ConvergenceWarning: Stochastic Optimizer: Maximum iterations (1000) reached and the optimization hasn't converged yet.\n",
      "  warnings.warn(\n",
      "/Users/xic/Desktop/Assignment 1(AI)/Virtual/lib/python3.10/site-packages/sklearn/neural_network/_multilayer_perceptron.py:684: ConvergenceWarning: Stochastic Optimizer: Maximum iterations (1000) reached and the optimization hasn't converged yet.\n",
      "  warnings.warn(\n",
      "/Users/xic/Desktop/Assignment 1(AI)/Virtual/lib/python3.10/site-packages/sklearn/neural_network/_multilayer_perceptron.py:684: ConvergenceWarning: Stochastic Optimizer: Maximum iterations (1000) reached and the optimization hasn't converged yet.\n",
      "  warnings.warn(\n",
      "/Users/xic/Desktop/Assignment 1(AI)/Virtual/lib/python3.10/site-packages/sklearn/neural_network/_multilayer_perceptron.py:684: ConvergenceWarning: Stochastic Optimizer: Maximum iterations (1000) reached and the optimization hasn't converged yet.\n",
      "  warnings.warn(\n",
      "/Users/xic/Desktop/Assignment 1(AI)/Virtual/lib/python3.10/site-packages/sklearn/neural_network/_multilayer_perceptron.py:684: ConvergenceWarning: Stochastic Optimizer: Maximum iterations (1000) reached and the optimization hasn't converged yet.\n",
      "  warnings.warn(\n",
      "/Users/xic/Desktop/Assignment 1(AI)/Virtual/lib/python3.10/site-packages/sklearn/neural_network/_multilayer_perceptron.py:684: ConvergenceWarning: Stochastic Optimizer: Maximum iterations (1000) reached and the optimization hasn't converged yet.\n",
      "  warnings.warn(\n",
      "/Users/xic/Desktop/Assignment 1(AI)/Virtual/lib/python3.10/site-packages/sklearn/neural_network/_multilayer_perceptron.py:684: ConvergenceWarning: Stochastic Optimizer: Maximum iterations (1000) reached and the optimization hasn't converged yet.\n",
      "  warnings.warn(\n",
      "/Users/xic/Desktop/Assignment 1(AI)/Virtual/lib/python3.10/site-packages/sklearn/neural_network/_multilayer_perceptron.py:684: ConvergenceWarning: Stochastic Optimizer: Maximum iterations (1000) reached and the optimization hasn't converged yet.\n",
      "  warnings.warn(\n",
      "/Users/xic/Desktop/Assignment 1(AI)/Virtual/lib/python3.10/site-packages/sklearn/neural_network/_multilayer_perceptron.py:684: ConvergenceWarning: Stochastic Optimizer: Maximum iterations (1000) reached and the optimization hasn't converged yet.\n",
      "  warnings.warn(\n",
      "/Users/xic/Desktop/Assignment 1(AI)/Virtual/lib/python3.10/site-packages/sklearn/neural_network/_multilayer_perceptron.py:684: ConvergenceWarning: Stochastic Optimizer: Maximum iterations (1000) reached and the optimization hasn't converged yet.\n",
      "  warnings.warn(\n",
      "/Users/xic/Desktop/Assignment 1(AI)/Virtual/lib/python3.10/site-packages/sklearn/neural_network/_multilayer_perceptron.py:684: ConvergenceWarning: Stochastic Optimizer: Maximum iterations (1000) reached and the optimization hasn't converged yet.\n",
      "  warnings.warn(\n",
      "/Users/xic/Desktop/Assignment 1(AI)/Virtual/lib/python3.10/site-packages/sklearn/neural_network/_multilayer_perceptron.py:684: ConvergenceWarning: Stochastic Optimizer: Maximum iterations (1000) reached and the optimization hasn't converged yet.\n",
      "  warnings.warn(\n",
      "/Users/xic/Desktop/Assignment 1(AI)/Virtual/lib/python3.10/site-packages/sklearn/neural_network/_multilayer_perceptron.py:684: ConvergenceWarning: Stochastic Optimizer: Maximum iterations (1000) reached and the optimization hasn't converged yet.\n",
      "  warnings.warn(\n",
      "/Users/xic/Desktop/Assignment 1(AI)/Virtual/lib/python3.10/site-packages/sklearn/neural_network/_multilayer_perceptron.py:684: ConvergenceWarning: Stochastic Optimizer: Maximum iterations (1000) reached and the optimization hasn't converged yet.\n",
      "  warnings.warn(\n",
      "/Users/xic/Desktop/Assignment 1(AI)/Virtual/lib/python3.10/site-packages/sklearn/neural_network/_multilayer_perceptron.py:684: ConvergenceWarning: Stochastic Optimizer: Maximum iterations (1000) reached and the optimization hasn't converged yet.\n",
      "  warnings.warn(\n",
      "/Users/xic/Desktop/Assignment 1(AI)/Virtual/lib/python3.10/site-packages/sklearn/neural_network/_multilayer_perceptron.py:684: ConvergenceWarning: Stochastic Optimizer: Maximum iterations (1000) reached and the optimization hasn't converged yet.\n",
      "  warnings.warn(\n",
      "/Users/xic/Desktop/Assignment 1(AI)/Virtual/lib/python3.10/site-packages/sklearn/neural_network/_multilayer_perceptron.py:684: ConvergenceWarning: Stochastic Optimizer: Maximum iterations (1000) reached and the optimization hasn't converged yet.\n",
      "  warnings.warn(\n",
      "/Users/xic/Desktop/Assignment 1(AI)/Virtual/lib/python3.10/site-packages/sklearn/neural_network/_multilayer_perceptron.py:684: ConvergenceWarning: Stochastic Optimizer: Maximum iterations (1000) reached and the optimization hasn't converged yet.\n",
      "  warnings.warn(\n",
      "/Users/xic/Desktop/Assignment 1(AI)/Virtual/lib/python3.10/site-packages/sklearn/neural_network/_multilayer_perceptron.py:684: ConvergenceWarning: Stochastic Optimizer: Maximum iterations (1000) reached and the optimization hasn't converged yet.\n",
      "  warnings.warn(\n",
      "/Users/xic/Desktop/Assignment 1(AI)/Virtual/lib/python3.10/site-packages/sklearn/neural_network/_multilayer_perceptron.py:684: ConvergenceWarning: Stochastic Optimizer: Maximum iterations (1000) reached and the optimization hasn't converged yet.\n",
      "  warnings.warn(\n",
      "/Users/xic/Desktop/Assignment 1(AI)/Virtual/lib/python3.10/site-packages/sklearn/neural_network/_multilayer_perceptron.py:684: ConvergenceWarning: Stochastic Optimizer: Maximum iterations (1000) reached and the optimization hasn't converged yet.\n",
      "  warnings.warn(\n",
      "/Users/xic/Desktop/Assignment 1(AI)/Virtual/lib/python3.10/site-packages/sklearn/neural_network/_multilayer_perceptron.py:684: ConvergenceWarning: Stochastic Optimizer: Maximum iterations (1000) reached and the optimization hasn't converged yet.\n",
      "  warnings.warn(\n",
      "/Users/xic/Desktop/Assignment 1(AI)/Virtual/lib/python3.10/site-packages/sklearn/neural_network/_multilayer_perceptron.py:684: ConvergenceWarning: Stochastic Optimizer: Maximum iterations (1000) reached and the optimization hasn't converged yet.\n",
      "  warnings.warn(\n",
      "/Users/xic/Desktop/Assignment 1(AI)/Virtual/lib/python3.10/site-packages/sklearn/neural_network/_multilayer_perceptron.py:684: ConvergenceWarning: Stochastic Optimizer: Maximum iterations (1000) reached and the optimization hasn't converged yet.\n",
      "  warnings.warn(\n",
      "/Users/xic/Desktop/Assignment 1(AI)/Virtual/lib/python3.10/site-packages/sklearn/neural_network/_multilayer_perceptron.py:684: ConvergenceWarning: Stochastic Optimizer: Maximum iterations (1000) reached and the optimization hasn't converged yet.\n",
      "  warnings.warn(\n",
      "/Users/xic/Desktop/Assignment 1(AI)/Virtual/lib/python3.10/site-packages/sklearn/neural_network/_multilayer_perceptron.py:684: ConvergenceWarning: Stochastic Optimizer: Maximum iterations (1000) reached and the optimization hasn't converged yet.\n",
      "  warnings.warn(\n",
      "/Users/xic/Desktop/Assignment 1(AI)/Virtual/lib/python3.10/site-packages/sklearn/neural_network/_multilayer_perceptron.py:684: ConvergenceWarning: Stochastic Optimizer: Maximum iterations (1000) reached and the optimization hasn't converged yet.\n",
      "  warnings.warn(\n",
      "/Users/xic/Desktop/Assignment 1(AI)/Virtual/lib/python3.10/site-packages/sklearn/neural_network/_multilayer_perceptron.py:684: ConvergenceWarning: Stochastic Optimizer: Maximum iterations (1000) reached and the optimization hasn't converged yet.\n",
      "  warnings.warn(\n"
     ]
    },
    {
     "name": "stderr",
     "output_type": "stream",
     "text": [
      "/Users/xic/Desktop/Assignment 1(AI)/Virtual/lib/python3.10/site-packages/sklearn/neural_network/_multilayer_perceptron.py:684: ConvergenceWarning: Stochastic Optimizer: Maximum iterations (1000) reached and the optimization hasn't converged yet.\n",
      "  warnings.warn(\n",
      "/Users/xic/Desktop/Assignment 1(AI)/Virtual/lib/python3.10/site-packages/sklearn/neural_network/_multilayer_perceptron.py:684: ConvergenceWarning: Stochastic Optimizer: Maximum iterations (1000) reached and the optimization hasn't converged yet.\n",
      "  warnings.warn(\n",
      "/Users/xic/Desktop/Assignment 1(AI)/Virtual/lib/python3.10/site-packages/sklearn/neural_network/_multilayer_perceptron.py:684: ConvergenceWarning: Stochastic Optimizer: Maximum iterations (1000) reached and the optimization hasn't converged yet.\n",
      "  warnings.warn(\n",
      "/Users/xic/Desktop/Assignment 1(AI)/Virtual/lib/python3.10/site-packages/sklearn/neural_network/_multilayer_perceptron.py:684: ConvergenceWarning: Stochastic Optimizer: Maximum iterations (1000) reached and the optimization hasn't converged yet.\n",
      "  warnings.warn(\n",
      "/Users/xic/Desktop/Assignment 1(AI)/Virtual/lib/python3.10/site-packages/sklearn/neural_network/_multilayer_perceptron.py:684: ConvergenceWarning: Stochastic Optimizer: Maximum iterations (1000) reached and the optimization hasn't converged yet.\n",
      "  warnings.warn(\n",
      "/Users/xic/Desktop/Assignment 1(AI)/Virtual/lib/python3.10/site-packages/sklearn/neural_network/_multilayer_perceptron.py:684: ConvergenceWarning: Stochastic Optimizer: Maximum iterations (1000) reached and the optimization hasn't converged yet.\n",
      "  warnings.warn(\n",
      "/Users/xic/Desktop/Assignment 1(AI)/Virtual/lib/python3.10/site-packages/sklearn/neural_network/_multilayer_perceptron.py:684: ConvergenceWarning: Stochastic Optimizer: Maximum iterations (1000) reached and the optimization hasn't converged yet.\n",
      "  warnings.warn(\n",
      "/Users/xic/Desktop/Assignment 1(AI)/Virtual/lib/python3.10/site-packages/sklearn/neural_network/_multilayer_perceptron.py:684: ConvergenceWarning: Stochastic Optimizer: Maximum iterations (1000) reached and the optimization hasn't converged yet.\n",
      "  warnings.warn(\n"
     ]
    }
   ],
   "source": [
    "mlp = MLPClassifier(max_iter=1000)\n",
    "\n",
    "parameter_space = {\n",
    "    'hidden_layer_sizes':[(100),(200)],\n",
    "    'activation':['tanh', 'relu'],\n",
    "    'solver':['sgd', 'adam'],\n",
    "    'alpha':[0.1, 0.5, 0.7],\n",
    "    'learning_rate':['constant', 'adaptive']\n",
    "}\n",
    "\n",
    "from sklearn.model_selection import GridSearchCV\n",
    "\n",
    "mlp_clf = GridSearchCV(mlp, parameter_space, n_jobs=1, cv=5).fit(X_train_pca, y_train)"
   ]
  },
  {
   "cell_type": "markdown",
   "id": "ac2599e2",
   "metadata": {},
   "source": [
    "# Review Results"
   ]
  },
  {
   "cell_type": "code",
   "execution_count": null,
   "id": "006d1d73",
   "metadata": {},
   "outputs": [],
   "source": [
    "# identifying perfecdt/best hyperparameters\n",
    "print(\"Best Parameters Found : \\n\", mlp_clf.best_params_)"
   ]
  },
  {
   "cell_type": "code",
   "execution_count": null,
   "id": "c922fddc",
   "metadata": {},
   "outputs": [],
   "source": [
    "# prediction\n",
    "y_true, y_pred = y_test, mlp_clf.predict(X_test_pca)\n",
    "\n",
    "print('Results on the test set : \\n', classification_report(y_true, y_pred))"
   ]
  },
  {
   "cell_type": "markdown",
   "id": "7ca5bdb5",
   "metadata": {},
   "source": [
    "# Loss Function"
   ]
  },
  {
   "cell_type": "code",
   "execution_count": 7,
   "id": "f6b7f26c",
   "metadata": {},
   "outputs": [
    {
     "data": {
      "image/png": "[encoded data removed]",
      "text/plain": [
       "<Figure size 640x480 with 1 Axes>"
      ]
     },
     "metadata": {},
     "output_type": "display_data"
    }
   ],
   "source": [
    "loss_values = clf.loss_curve_\n",
    "\n",
    "plt.plot(loss_values)\n",
    "plt.show()"
   ]
  },
  {
   "cell_type": "markdown",
   "id": "9ec9a05f",
   "metadata": {},
   "source": [
    "# Adam Boosting Classifier"
   ]
  },
  {
   "cell_type": "code",
   "execution_count": 7,
   "id": "d66b3f7d",
   "metadata": {},
   "outputs": [],
   "source": [
    "# training nerual nertwork using Adaboosting\n",
    "adboost = AdaBoostClassifier(DecisionTreeClassifier(max_depth=2), n_estimators=200, algorithm='SAMME.R',\n",
    "                            learning_rate=0.5, random_state=26).fit(X_train_pca, y_train)"
   ]
  },
  {
   "cell_type": "code",
   "execution_count": 8,
   "id": "6c65df31",
   "metadata": {},
   "outputs": [
    {
     "name": "stdout",
     "output_type": "stream",
     "text": [
      "Accuracy :  0.5070707070707071\n"
     ]
    }
   ],
   "source": [
    "ada_y_pred = adboost.predict(X_test_pca)\n",
    "print('Accuracy : ', metrics.accuracy_score(y_test, ada_y_pred))"
   ]
  },
  {
   "cell_type": "code",
   "execution_count": 9,
   "id": "330adcff",
   "metadata": {},
   "outputs": [
    {
     "name": "stdout",
     "output_type": "stream",
     "text": [
      "Cross Validation Scores \t  :  [0.57       0.50333333 0.48       0.50333333 0.44666667]\n",
      "Average Accuracy :  0.5006666666666667\n"
     ]
    }
   ],
   "source": [
    "ada_cross_val_result = cross_val_score(adboost, X_pca, y, cv=5)\n",
    "\n",
    "print(\"Cross Validation Scores\",\"\\t\",\" : \", ada_cross_val_result)\n",
    "print(\"Average Accuracy : \", np.mean(ada_cross_val_result))"
   ]
  },
  {
   "cell_type": "markdown",
   "id": "142ba25a",
   "metadata": {},
   "source": [
    "# Pairwise Classifier"
   ]
  },
  {
   "cell_type": "code",
   "execution_count": 10,
   "id": "b3aa6075",
   "metadata": {},
   "outputs": [],
   "source": [
    "# training a neural network using Pairwise\n",
    "pair = OneVsOneClassifier(LinearSVC()).fit(X_train_pca, y_train)"
   ]
  },
  {
   "cell_type": "code",
   "execution_count": 11,
   "id": "b8105ac8",
   "metadata": {},
   "outputs": [
    {
     "name": "stdout",
     "output_type": "stream",
     "text": [
      "Accuracy :  0.9494949494949495\n"
     ]
    }
   ],
   "source": [
    "pair_y_pred = pair.predict(X_test_pca)\n",
    "print('Accuracy : ', metrics.accuracy_score(y_test, pair_y_pred))"
   ]
  },
  {
   "cell_type": "code",
   "execution_count": 12,
   "id": "2ef493d1",
   "metadata": {
    "scrolled": true
   },
   "outputs": [
    {
     "name": "stdout",
     "output_type": "stream",
     "text": [
      "Cross Validation Scores :  [0.98333333 0.98333333 0.94666667 0.98333333 0.96333333]\n",
      "Average Accuracy :  0.9719999999999999\n"
     ]
    }
   ],
   "source": [
    "pair_cross_val_result = cross_val_score(pair, X_pca, y, cv=5)\n",
    "\n",
    "print(\"Cross Validation Scores : \", pair_cross_val_result)\n",
    "print(\"Average Accuracy : \", np.mean(pair_cross_val_result))"
   ]
  },
  {
   "cell_type": "code",
   "execution_count": null,
   "id": "ed2d7fa7",
   "metadata": {},
   "outputs": [],
   "source": []
  }
 ],
 "metadata": {
  "kernelspec": {
   "display_name": "Python 3 (ipykernel)",
   "language": "python",
   "name": "python3"
  },
  "language_info": {
   "codemirror_mode": {
    "name": "ipython",
    "version": 3
   },
   "file_extension": ".py",
   "mimetype": "text/x-python",
   "name": "python",
   "nbconvert_exporter": "python",
   "pygments_lexer": "ipython3",
   "version": "3.10.7"
  }
 },
 "nbformat": 4,
 "nbformat_minor": 5
}
